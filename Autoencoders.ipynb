{
  "nbformat": 4,
  "nbformat_minor": 0,
  "metadata": {
    "colab": {
      "name": "Autoencoders.ipynb",
      "provenance": [],
      "collapsed_sections": []
    },
    "kernelspec": {
      "name": "python3",
      "display_name": "Python 3"
    },
    "language_info": {
      "name": "python"
    }
  },
  "cells": [
    {
      "cell_type": "code",
      "execution_count": 1,
      "metadata": {
        "id": "sEyqRuJHYFX4"
      },
      "outputs": [],
      "source": [
        "import keras\n",
        "from keras import layers"
      ]
    },
    {
      "cell_type": "code",
      "source": [
        "# This is the size of our encoded representations\n",
        "encoding_dim = 32  # 32 floats -> compression of factor 24.5, assuming the input is 784 floats\n",
        "\n",
        "# This is our input image\n",
        "input_img = keras.Input(shape=(784,))\n",
        "# \"encoded\" is the encoded representation of the input\n",
        "encoded = layers.Dense(encoding_dim, activation='relu')(input_img)\n",
        "# \"decoded\" is the lossy reconstruction of the input\n",
        "decoded = layers.Dense(784, activation='sigmoid')(encoded)"
      ],
      "metadata": {
        "id": "6uQfRXV9co_7"
      },
      "execution_count": 2,
      "outputs": []
    },
    {
      "cell_type": "code",
      "source": [
        "# This model maps an input to its reconstruction\n",
        "autoencoder = keras.Model(input_img, decoded)"
      ],
      "metadata": {
        "id": "_tb25xBYcr_H"
      },
      "execution_count": 3,
      "outputs": []
    },
    {
      "cell_type": "code",
      "source": [
        "#Let's also create a separate encoder model:\n",
        "\n",
        "# This model maps an input to its encoded representation\n",
        "encoder = keras.Model(input_img, encoded)"
      ],
      "metadata": {
        "id": "Ly_i8V99c_pl"
      },
      "execution_count": 4,
      "outputs": []
    },
    {
      "cell_type": "code",
      "source": [
        "# This is our encoded (32-dimensional) input\n",
        "encoded_input = keras.Input(shape=(encoding_dim,))\n",
        "# Retrieve the last layer of the autoencoder model\n",
        "decoder_layer = autoencoder.layers[-1]\n",
        "# Create the decoder model\n",
        "decoder = keras.Model(encoded_input, decoder_layer(encoded_input))"
      ],
      "metadata": {
        "id": "RkzFniOGdRGI"
      },
      "execution_count": 5,
      "outputs": []
    },
    {
      "cell_type": "code",
      "source": [
        "#Now let's train our autoencoder to reconstruct MNIST digits.\n",
        "\n",
        "#First, we'll configure our model to use a per-pixel binary crossentropy loss, and the Adam optimizer:\n",
        "\n",
        "autoencoder.compile(optimizer='adam', loss='binary_crossentropy')"
      ],
      "metadata": {
        "id": "vQVLG3Y_dfQd"
      },
      "execution_count": 6,
      "outputs": []
    },
    {
      "cell_type": "code",
      "source": [
        "#Let's prepare our input data. We're using MNIST digits, and we're discarding the labels (since we're only interested in encoding/decoding the input images).\n",
        "\n",
        "from keras.datasets import mnist\n",
        "import numpy as np\n",
        "(x_train, _), (x_test, _) = mnist.load_data()"
      ],
      "metadata": {
        "colab": {
          "base_uri": "https://localhost:8080/"
        },
        "id": "RiajtJ3kdk8V",
        "outputId": "240f5475-fcb4-46da-fb2c-d474ea1a4596"
      },
      "execution_count": 7,
      "outputs": [
        {
          "output_type": "stream",
          "name": "stdout",
          "text": [
            "Downloading data from https://storage.googleapis.com/tensorflow/tf-keras-datasets/mnist.npz\n",
            "11493376/11490434 [==============================] - 0s 0us/step\n",
            "11501568/11490434 [==============================] - 0s 0us/step\n"
          ]
        }
      ]
    },
    {
      "cell_type": "code",
      "source": [
        "# We will normalize all values between 0 and 1 and we will flatten the 28x28 images into vectors of size 784.\n",
        "\n",
        "x_train = x_train.astype('float32') / 255.\n",
        "x_test = x_test.astype('float32') / 255.\n",
        "x_train = x_train.reshape((len(x_train), np.prod(x_train.shape[1:])))\n",
        "x_test = x_test.reshape((len(x_test), np.prod(x_test.shape[1:])))\n",
        "print(x_train.shape)\n",
        "print(x_test.shape)"
      ],
      "metadata": {
        "colab": {
          "base_uri": "https://localhost:8080/"
        },
        "id": "V2FmGduGdphf",
        "outputId": "8b543387-a232-44b1-dc4c-eb2d46875c15"
      },
      "execution_count": 8,
      "outputs": [
        {
          "output_type": "stream",
          "name": "stdout",
          "text": [
            "(60000, 784)\n",
            "(10000, 784)\n"
          ]
        }
      ]
    },
    {
      "cell_type": "code",
      "source": [
        "# Now let's train our autoencoder for 50 epochs:\n",
        "\n",
        "autoencoder.fit(x_train, x_train,\n",
        "                epochs=50,\n",
        "                batch_size=256,\n",
        "                shuffle=True,\n",
        "                validation_data=(x_test, x_test))"
      ],
      "metadata": {
        "colab": {
          "base_uri": "https://localhost:8080/"
        },
        "id": "dbzumncBduFI",
        "outputId": "d9471f0f-c663-4064-d3b4-f63c6cdcde28"
      },
      "execution_count": 9,
      "outputs": [
        {
          "output_type": "stream",
          "name": "stdout",
          "text": [
            "Epoch 1/50\n",
            "235/235 [==============================] - 5s 16ms/step - loss: 0.2752 - val_loss: 0.1881\n",
            "Epoch 2/50\n",
            "235/235 [==============================] - 3s 11ms/step - loss: 0.1709 - val_loss: 0.1541\n",
            "Epoch 3/50\n",
            "235/235 [==============================] - 3s 11ms/step - loss: 0.1445 - val_loss: 0.1338\n",
            "Epoch 4/50\n",
            "235/235 [==============================] - 3s 11ms/step - loss: 0.1285 - val_loss: 0.1213\n",
            "Epoch 5/50\n",
            "235/235 [==============================] - 3s 11ms/step - loss: 0.1183 - val_loss: 0.1130\n",
            "Epoch 6/50\n",
            "235/235 [==============================] - 2s 10ms/step - loss: 0.1110 - val_loss: 0.1067\n",
            "Epoch 7/50\n",
            "235/235 [==============================] - 2s 10ms/step - loss: 0.1057 - val_loss: 0.1024\n",
            "Epoch 8/50\n",
            "235/235 [==============================] - 2s 10ms/step - loss: 0.1019 - val_loss: 0.0992\n",
            "Epoch 9/50\n",
            "235/235 [==============================] - 2s 10ms/step - loss: 0.0993 - val_loss: 0.0969\n",
            "Epoch 10/50\n",
            "235/235 [==============================] - 2s 10ms/step - loss: 0.0974 - val_loss: 0.0954\n",
            "Epoch 11/50\n",
            "235/235 [==============================] - 2s 10ms/step - loss: 0.0962 - val_loss: 0.0944\n",
            "Epoch 12/50\n",
            "235/235 [==============================] - 2s 10ms/step - loss: 0.0954 - val_loss: 0.0938\n",
            "Epoch 13/50\n",
            "235/235 [==============================] - 2s 10ms/step - loss: 0.0949 - val_loss: 0.0933\n",
            "Epoch 14/50\n",
            "235/235 [==============================] - 2s 10ms/step - loss: 0.0945 - val_loss: 0.0931\n",
            "Epoch 15/50\n",
            "235/235 [==============================] - 2s 10ms/step - loss: 0.0942 - val_loss: 0.0929\n",
            "Epoch 16/50\n",
            "235/235 [==============================] - 2s 10ms/step - loss: 0.0940 - val_loss: 0.0926\n",
            "Epoch 17/50\n",
            "235/235 [==============================] - 2s 10ms/step - loss: 0.0939 - val_loss: 0.0926\n",
            "Epoch 18/50\n",
            "235/235 [==============================] - 2s 10ms/step - loss: 0.0937 - val_loss: 0.0924\n",
            "Epoch 19/50\n",
            "235/235 [==============================] - 2s 11ms/step - loss: 0.0936 - val_loss: 0.0923\n",
            "Epoch 20/50\n",
            "235/235 [==============================] - 2s 10ms/step - loss: 0.0935 - val_loss: 0.0923\n",
            "Epoch 21/50\n",
            "235/235 [==============================] - 2s 10ms/step - loss: 0.0934 - val_loss: 0.0922\n",
            "Epoch 22/50\n",
            "235/235 [==============================] - 2s 10ms/step - loss: 0.0934 - val_loss: 0.0921\n",
            "Epoch 23/50\n",
            "235/235 [==============================] - 3s 11ms/step - loss: 0.0933 - val_loss: 0.0922\n",
            "Epoch 24/50\n",
            "235/235 [==============================] - 3s 11ms/step - loss: 0.0933 - val_loss: 0.0920\n",
            "Epoch 25/50\n",
            "235/235 [==============================] - 3s 11ms/step - loss: 0.0932 - val_loss: 0.0920\n",
            "Epoch 26/50\n",
            "235/235 [==============================] - 2s 10ms/step - loss: 0.0932 - val_loss: 0.0920\n",
            "Epoch 27/50\n",
            "235/235 [==============================] - 2s 10ms/step - loss: 0.0931 - val_loss: 0.0919\n",
            "Epoch 28/50\n",
            "235/235 [==============================] - 2s 10ms/step - loss: 0.0931 - val_loss: 0.0918\n",
            "Epoch 29/50\n",
            "235/235 [==============================] - 2s 10ms/step - loss: 0.0930 - val_loss: 0.0918\n",
            "Epoch 30/50\n",
            "235/235 [==============================] - 2s 10ms/step - loss: 0.0930 - val_loss: 0.0919\n",
            "Epoch 31/50\n",
            "235/235 [==============================] - 2s 10ms/step - loss: 0.0930 - val_loss: 0.0919\n",
            "Epoch 32/50\n",
            "235/235 [==============================] - 2s 10ms/step - loss: 0.0930 - val_loss: 0.0918\n",
            "Epoch 33/50\n",
            "235/235 [==============================] - 2s 10ms/step - loss: 0.0929 - val_loss: 0.0917\n",
            "Epoch 34/50\n",
            "235/235 [==============================] - 2s 10ms/step - loss: 0.0929 - val_loss: 0.0918\n",
            "Epoch 35/50\n",
            "235/235 [==============================] - 2s 10ms/step - loss: 0.0929 - val_loss: 0.0917\n",
            "Epoch 36/50\n",
            "235/235 [==============================] - 3s 11ms/step - loss: 0.0928 - val_loss: 0.0918\n",
            "Epoch 37/50\n",
            "235/235 [==============================] - 2s 10ms/step - loss: 0.0928 - val_loss: 0.0917\n",
            "Epoch 38/50\n",
            "235/235 [==============================] - 2s 10ms/step - loss: 0.0928 - val_loss: 0.0917\n",
            "Epoch 39/50\n",
            "235/235 [==============================] - 3s 12ms/step - loss: 0.0928 - val_loss: 0.0917\n",
            "Epoch 40/50\n",
            "235/235 [==============================] - 2s 11ms/step - loss: 0.0928 - val_loss: 0.0917\n",
            "Epoch 41/50\n",
            "235/235 [==============================] - 3s 11ms/step - loss: 0.0927 - val_loss: 0.0917\n",
            "Epoch 42/50\n",
            "235/235 [==============================] - 3s 11ms/step - loss: 0.0927 - val_loss: 0.0916\n",
            "Epoch 43/50\n",
            "235/235 [==============================] - 2s 11ms/step - loss: 0.0927 - val_loss: 0.0916\n",
            "Epoch 44/50\n",
            "235/235 [==============================] - 3s 11ms/step - loss: 0.0927 - val_loss: 0.0916\n",
            "Epoch 45/50\n",
            "235/235 [==============================] - 3s 11ms/step - loss: 0.0927 - val_loss: 0.0916\n",
            "Epoch 46/50\n",
            "235/235 [==============================] - 3s 11ms/step - loss: 0.0927 - val_loss: 0.0915\n",
            "Epoch 47/50\n",
            "235/235 [==============================] - 3s 11ms/step - loss: 0.0927 - val_loss: 0.0916\n",
            "Epoch 48/50\n",
            "235/235 [==============================] - 3s 11ms/step - loss: 0.0926 - val_loss: 0.0915\n",
            "Epoch 49/50\n",
            "235/235 [==============================] - 3s 11ms/step - loss: 0.0926 - val_loss: 0.0915\n",
            "Epoch 50/50\n",
            "235/235 [==============================] - 3s 11ms/step - loss: 0.0926 - val_loss: 0.0916\n"
          ]
        },
        {
          "output_type": "execute_result",
          "data": {
            "text/plain": [
              "<keras.callbacks.History at 0x7f755a3ae710>"
            ]
          },
          "metadata": {},
          "execution_count": 9
        }
      ]
    },
    {
      "cell_type": "markdown",
      "source": [
        "After 50 epochs, the autoencoder seems to reach a stable train/validation loss value of about 0.09. We can try to visualize the reconstructed inputs and the encoded representations. We will use Matplotlib."
      ],
      "metadata": {
        "id": "1sJHQL6fetyn"
      }
    },
    {
      "cell_type": "code",
      "source": [
        "# Encode and decode some digits\n",
        "# Note that we take them from the *test* set\n",
        "encoded_imgs = encoder.predict(x_test)\n",
        "decoded_imgs = decoder.predict(encoded_imgs)"
      ],
      "metadata": {
        "id": "R6tflJBcdzby"
      },
      "execution_count": 10,
      "outputs": []
    },
    {
      "cell_type": "code",
      "source": [
        "# Use Matplotlib \n",
        "import matplotlib.pyplot as plt\n",
        "\n",
        "n = 10  # How many digits we will display\n",
        "plt.figure(figsize=(20, 4))\n",
        "for i in range(n):\n",
        "    # Display original\n",
        "    ax = plt.subplot(2, n, i + 1)\n",
        "    plt.imshow(x_test[i].reshape(28, 28))\n",
        "    plt.gray()\n",
        "    ax.get_xaxis().set_visible(False)\n",
        "    ax.get_yaxis().set_visible(False)\n",
        "\n",
        "    # Display reconstruction\n",
        "    ax = plt.subplot(2, n, i + 1 + n)\n",
        "    plt.imshow(decoded_imgs[i].reshape(28, 28))\n",
        "    plt.gray()\n",
        "    ax.get_xaxis().set_visible(False)\n",
        "    ax.get_yaxis().set_visible(False)\n",
        "plt.show()"
      ],
      "metadata": {
        "colab": {
          "base_uri": "https://localhost:8080/",
          "height": 248
        },
        "id": "8kw_6-U-eyMm",
        "outputId": "cfdf2c9c-b897-414b-f5f3-3725c028fa3c"
      },
      "execution_count": 11,
      "outputs": [
        {
          "output_type": "display_data",
          "data": {
            "text/plain": [
              "<Figure size 1440x288 with 20 Axes>"
            ],
            "image/png": "[encoded data removed]"
          },
          "metadata": {
            "needs_background": "light"
          }
        }
      ]
    },
    {
      "cell_type": "markdown",
      "source": [
        "Adding a sparsity constraint on the encoded representations"
      ],
      "metadata": {
        "id": "nCUTfvEDe7Xg"
      }
    },
    {
      "cell_type": "markdown",
      "source": [
        "In the previous example, the representations were only constrained by the size of the hidden layer (32). In such a situation, what typically happens is that the hidden layer is learning an approximation of PCA (principal component analysis). But another way to constrain the representations to be compact is to add a sparsity contraint on the activity of the hidden representations, so fewer units would \"fire\" at a given time. In Keras, this can be done by adding an activity_regularizer to our Dense layer:"
      ],
      "metadata": {
        "id": "1sbIBmA5fF1e"
      }
    },
    {
      "cell_type": "code",
      "source": [
        "from keras import regularizers\n",
        "\n",
        "encoding_dim = 32\n",
        "\n",
        "input_img = keras.Input(shape=(784,))\n",
        "# Add a Dense layer with a L1 activity regularizer\n",
        "encoded = layers.Dense(encoding_dim, activation='relu',\n",
        "                activity_regularizer=regularizers.l1(10e-5))(input_img)\n",
        "decoded = layers.Dense(784, activation='sigmoid')(encoded)\n",
        "\n",
        "autoencoder = keras.Model(input_img, decoded)"
      ],
      "metadata": {
        "id": "Q-IfLZKCe3NT"
      },
      "execution_count": 12,
      "outputs": []
    },
    {
      "cell_type": "code",
      "source": [
        "#Let's also create a separate encoder model:\n",
        "\n",
        "# This model maps an input to its encoded representation\n",
        "encoder = keras.Model(input_img, encoded)"
      ],
      "metadata": {
        "id": "fWB1sNm6fLhq"
      },
      "execution_count": 13,
      "outputs": []
    },
    {
      "cell_type": "code",
      "source": [
        "# This is our encoded (32-dimensional) input\n",
        "encoded_input = keras.Input(shape=(encoding_dim,))\n",
        "# Retrieve the last layer of the autoencoder model\n",
        "decoder_layer = autoencoder.layers[-1]\n",
        "# Create the decoder model\n",
        "decoder = keras.Model(encoded_input, decoder_layer(encoded_input))"
      ],
      "metadata": {
        "id": "ijQyeVnTf8br"
      },
      "execution_count": 14,
      "outputs": []
    },
    {
      "cell_type": "code",
      "source": [
        "#Now let's train our autoencoder to reconstruct MNIST digits.\n",
        "\n",
        "#First, we'll configure our model to use a per-pixel binary crossentropy loss, and the Adam optimizer:\n",
        "\n",
        "autoencoder.compile(optimizer='adam', loss='binary_crossentropy')"
      ],
      "metadata": {
        "id": "vjAl6w6ugAd6"
      },
      "execution_count": 15,
      "outputs": []
    },
    {
      "cell_type": "code",
      "source": [
        "#Let's prepare our input data. We're using MNIST digits, and we're discarding the labels (since we're only interested in encoding/decoding the input images).\n",
        "\n",
        "from keras.datasets import mnist\n",
        "import numpy as np\n",
        "(x_train, _), (x_test, _) = mnist.load_data()"
      ],
      "metadata": {
        "id": "ty2EthgfgEPG"
      },
      "execution_count": 16,
      "outputs": []
    },
    {
      "cell_type": "code",
      "source": [
        "# We will normalize all values between 0 and 1 and we will flatten the 28x28 images into vectors of size 784.\n",
        "\n",
        "x_train = x_train.astype('float32') / 255.\n",
        "x_test = x_test.astype('float32') / 255.\n",
        "x_train = x_train.reshape((len(x_train), np.prod(x_train.shape[1:])))\n",
        "x_test = x_test.reshape((len(x_test), np.prod(x_test.shape[1:])))\n",
        "print(x_train.shape)\n",
        "print(x_test.shape)"
      ],
      "metadata": {
        "colab": {
          "base_uri": "https://localhost:8080/"
        },
        "id": "-yNfHN0kgHl5",
        "outputId": "fd422e63-904b-4338-89c2-999a9ac24485"
      },
      "execution_count": 17,
      "outputs": [
        {
          "output_type": "stream",
          "name": "stdout",
          "text": [
            "(60000, 784)\n",
            "(10000, 784)\n"
          ]
        }
      ]
    },
    {
      "cell_type": "code",
      "source": [
        "# Now let's train our autoencoder for 50 epochs:\n",
        "\n",
        "autoencoder.fit(x_train, x_train,\n",
        "                epochs=50,\n",
        "                batch_size=256,\n",
        "                shuffle=True,\n",
        "                validation_data=(x_test, x_test))"
      ],
      "metadata": {
        "colab": {
          "base_uri": "https://localhost:8080/"
        },
        "id": "4Z-fuWcigKx8",
        "outputId": "98043895-d991-4198-ca5e-b5d8fed78a21"
      },
      "execution_count": 18,
      "outputs": [
        {
          "output_type": "stream",
          "name": "stdout",
          "text": [
            "Epoch 1/50\n",
            "235/235 [==============================] - 5s 13ms/step - loss: 0.2844 - val_loss: 0.1936\n",
            "Epoch 2/50\n",
            "235/235 [==============================] - 3s 12ms/step - loss: 0.1766 - val_loss: 0.1606\n",
            "Epoch 3/50\n",
            "235/235 [==============================] - 3s 12ms/step - loss: 0.1524 - val_loss: 0.1429\n",
            "Epoch 4/50\n",
            "235/235 [==============================] - 3s 12ms/step - loss: 0.1381 - val_loss: 0.1312\n",
            "Epoch 5/50\n",
            "235/235 [==============================] - 3s 12ms/step - loss: 0.1285 - val_loss: 0.1233\n",
            "Epoch 6/50\n",
            "235/235 [==============================] - 3s 12ms/step - loss: 0.1216 - val_loss: 0.1174\n",
            "Epoch 7/50\n",
            "235/235 [==============================] - 3s 12ms/step - loss: 0.1166 - val_loss: 0.1133\n",
            "Epoch 8/50\n",
            "235/235 [==============================] - 3s 12ms/step - loss: 0.1130 - val_loss: 0.1103\n",
            "Epoch 9/50\n",
            "235/235 [==============================] - 3s 11ms/step - loss: 0.1105 - val_loss: 0.1083\n",
            "Epoch 10/50\n",
            "235/235 [==============================] - 3s 12ms/step - loss: 0.1088 - val_loss: 0.1068\n",
            "Epoch 11/50\n",
            "235/235 [==============================] - 3s 12ms/step - loss: 0.1076 - val_loss: 0.1059\n",
            "Epoch 12/50\n",
            "235/235 [==============================] - 3s 12ms/step - loss: 0.1067 - val_loss: 0.1050\n",
            "Epoch 13/50\n",
            "235/235 [==============================] - 3s 12ms/step - loss: 0.1060 - val_loss: 0.1043\n",
            "Epoch 14/50\n",
            "235/235 [==============================] - 3s 12ms/step - loss: 0.1054 - val_loss: 0.1038\n",
            "Epoch 15/50\n",
            "235/235 [==============================] - 3s 12ms/step - loss: 0.1048 - val_loss: 0.1034\n",
            "Epoch 16/50\n",
            "235/235 [==============================] - 3s 13ms/step - loss: 0.1044 - val_loss: 0.1029\n",
            "Epoch 17/50\n",
            "235/235 [==============================] - 3s 12ms/step - loss: 0.1040 - val_loss: 0.1026\n",
            "Epoch 18/50\n",
            "235/235 [==============================] - 3s 12ms/step - loss: 0.1036 - val_loss: 0.1022\n",
            "Epoch 19/50\n",
            "235/235 [==============================] - 3s 12ms/step - loss: 0.1033 - val_loss: 0.1019\n",
            "Epoch 20/50\n",
            "235/235 [==============================] - 3s 12ms/step - loss: 0.1030 - val_loss: 0.1016\n",
            "Epoch 21/50\n",
            "235/235 [==============================] - 3s 13ms/step - loss: 0.1027 - val_loss: 0.1014\n",
            "Epoch 22/50\n",
            "235/235 [==============================] - 4s 16ms/step - loss: 0.1024 - val_loss: 0.1011\n",
            "Epoch 23/50\n",
            "235/235 [==============================] - 3s 13ms/step - loss: 0.1022 - val_loss: 0.1009\n",
            "Epoch 24/50\n",
            "235/235 [==============================] - 3s 13ms/step - loss: 0.1020 - val_loss: 0.1007\n",
            "Epoch 25/50\n",
            "235/235 [==============================] - 3s 13ms/step - loss: 0.1018 - val_loss: 0.1005\n",
            "Epoch 26/50\n",
            "235/235 [==============================] - 3s 13ms/step - loss: 0.1016 - val_loss: 0.1004\n",
            "Epoch 27/50\n",
            "235/235 [==============================] - 3s 13ms/step - loss: 0.1014 - val_loss: 0.1001\n",
            "Epoch 28/50\n",
            "235/235 [==============================] - 3s 13ms/step - loss: 0.1012 - val_loss: 0.1000\n",
            "Epoch 29/50\n",
            "235/235 [==============================] - 3s 13ms/step - loss: 0.1010 - val_loss: 0.0998\n",
            "Epoch 30/50\n",
            "235/235 [==============================] - 3s 13ms/step - loss: 0.1009 - val_loss: 0.0997\n",
            "Epoch 31/50\n",
            "235/235 [==============================] - 3s 13ms/step - loss: 0.1008 - val_loss: 0.0995\n",
            "Epoch 32/50\n",
            "235/235 [==============================] - 3s 13ms/step - loss: 0.1006 - val_loss: 0.0994\n",
            "Epoch 33/50\n",
            "235/235 [==============================] - 3s 13ms/step - loss: 0.1005 - val_loss: 0.0993\n",
            "Epoch 34/50\n",
            "235/235 [==============================] - 3s 13ms/step - loss: 0.1003 - val_loss: 0.0991\n",
            "Epoch 35/50\n",
            "235/235 [==============================] - 3s 13ms/step - loss: 0.1002 - val_loss: 0.0991\n",
            "Epoch 36/50\n",
            "235/235 [==============================] - 3s 14ms/step - loss: 0.1001 - val_loss: 0.0990\n",
            "Epoch 37/50\n",
            "235/235 [==============================] - 3s 13ms/step - loss: 0.1000 - val_loss: 0.0988\n",
            "Epoch 38/50\n",
            "235/235 [==============================] - 3s 13ms/step - loss: 0.0999 - val_loss: 0.0987\n",
            "Epoch 39/50\n",
            "235/235 [==============================] - 3s 14ms/step - loss: 0.0998 - val_loss: 0.0986\n",
            "Epoch 40/50\n",
            "235/235 [==============================] - 3s 13ms/step - loss: 0.0997 - val_loss: 0.0985\n",
            "Epoch 41/50\n",
            "235/235 [==============================] - 3s 12ms/step - loss: 0.0996 - val_loss: 0.0985\n",
            "Epoch 42/50\n",
            "235/235 [==============================] - 3s 13ms/step - loss: 0.0995 - val_loss: 0.0984\n",
            "Epoch 43/50\n",
            "235/235 [==============================] - 3s 13ms/step - loss: 0.0994 - val_loss: 0.0983\n",
            "Epoch 44/50\n",
            "235/235 [==============================] - 3s 14ms/step - loss: 0.0993 - val_loss: 0.0982\n",
            "Epoch 45/50\n",
            "235/235 [==============================] - 3s 13ms/step - loss: 0.0992 - val_loss: 0.0981\n",
            "Epoch 46/50\n",
            "235/235 [==============================] - 3s 13ms/step - loss: 0.0992 - val_loss: 0.0981\n",
            "Epoch 47/50\n",
            "235/235 [==============================] - 3s 13ms/step - loss: 0.0991 - val_loss: 0.0980\n",
            "Epoch 48/50\n",
            "235/235 [==============================] - 3s 13ms/step - loss: 0.0990 - val_loss: 0.0979\n",
            "Epoch 49/50\n",
            "235/235 [==============================] - 3s 13ms/step - loss: 0.0990 - val_loss: 0.0979\n",
            "Epoch 50/50\n",
            "235/235 [==============================] - 3s 12ms/step - loss: 0.0989 - val_loss: 0.0978\n"
          ]
        },
        {
          "output_type": "execute_result",
          "data": {
            "text/plain": [
              "<keras.callbacks.History at 0x7f755574c390>"
            ]
          },
          "metadata": {},
          "execution_count": 18
        }
      ]
    },
    {
      "cell_type": "code",
      "source": [
        "# Encode and decode some digits\n",
        "# Note that we take them from the *test* set\n",
        "encoded_imgs = encoder.predict(x_test)\n",
        "decoded_imgs = decoder.predict(encoded_imgs)"
      ],
      "metadata": {
        "id": "13NymXMrgO4X"
      },
      "execution_count": 19,
      "outputs": []
    },
    {
      "cell_type": "code",
      "source": [
        "# Use Matplotlib \n",
        "import matplotlib.pyplot as plt\n",
        "\n",
        "n = 10  # How many digits we will display\n",
        "plt.figure(figsize=(20, 4))\n",
        "for i in range(n):\n",
        "    # Display original\n",
        "    ax = plt.subplot(2, n, i + 1)\n",
        "    plt.imshow(x_test[i].reshape(28, 28))\n",
        "    plt.gray()\n",
        "    ax.get_xaxis().set_visible(False)\n",
        "    ax.get_yaxis().set_visible(False)\n",
        "\n",
        "    # Display reconstruction\n",
        "    ax = plt.subplot(2, n, i + 1 + n)\n",
        "    plt.imshow(decoded_imgs[i].reshape(28, 28))\n",
        "    plt.gray()\n",
        "    ax.get_xaxis().set_visible(False)\n",
        "    ax.get_yaxis().set_visible(False)\n",
        "plt.show()"
      ],
      "metadata": {
        "colab": {
          "base_uri": "https://localhost:8080/",
          "height": 248
        },
        "id": "WgylVtRvhpES",
        "outputId": "89907eb8-4b03-493e-c116-96b9c15d419b"
      },
      "execution_count": 20,
      "outputs": [
        {
          "output_type": "display_data",
          "data": {
            "text/plain": [
              "<Figure size 1440x288 with 20 Axes>"
            ],
            "image/png": "[encoded data removed]"
          },
          "metadata": {
            "needs_background": "light"
          }
        }
      ]
    },
    {
      "cell_type": "markdown",
      "source": [
        "Deep autoencoder\n",
        "\n",
        "We do not have to limit ourselves to a single layer as encoder or decoder, we could instead use a stack of layers, such as:"
      ],
      "metadata": {
        "id": "ZkD-otfwh9b2"
      }
    },
    {
      "cell_type": "code",
      "source": [
        "input_img = keras.Input(shape=(784,))\n",
        "encoded = layers.Dense(128, activation='relu')(input_img)\n",
        "encoded = layers.Dense(64, activation='relu')(encoded)\n",
        "encoded = layers.Dense(32, activation='relu')(encoded)\n",
        "\n",
        "decoded = layers.Dense(64, activation='relu')(encoded)\n",
        "decoded = layers.Dense(128, activation='relu')(decoded)\n",
        "decoded = layers.Dense(784, activation='sigmoid')(decoded)"
      ],
      "metadata": {
        "id": "UYNBrP8ths18"
      },
      "execution_count": 21,
      "outputs": []
    },
    {
      "cell_type": "code",
      "source": [
        "autoencoder = keras.Model(input_img, decoded)\n",
        "autoencoder.compile(optimizer='adam', loss='binary_crossentropy')\n",
        "\n",
        "autoencoder.fit(x_train, x_train,\n",
        "                epochs=100,\n",
        "                batch_size=256,\n",
        "                shuffle=True,\n",
        "                validation_data=(x_test, x_test))"
      ],
      "metadata": {
        "colab": {
          "base_uri": "https://localhost:8080/"
        },
        "id": "UaIkn99RiAp2",
        "outputId": "87498843-22ae-4b37-ef5a-4114886e8577"
      },
      "execution_count": 23,
      "outputs": [
        {
          "output_type": "stream",
          "name": "stdout",
          "text": [
            "Epoch 1/100\n",
            "235/235 [==============================] - 5s 19ms/step - loss: 0.0815 - val_loss: 0.0802\n",
            "Epoch 2/100\n",
            "235/235 [==============================] - 4s 18ms/step - loss: 0.0805 - val_loss: 0.0804\n",
            "Epoch 3/100\n",
            "235/235 [==============================] - 4s 18ms/step - loss: 0.0806 - val_loss: 0.0803\n",
            "Epoch 4/100\n",
            "235/235 [==============================] - 4s 18ms/step - loss: 0.0806 - val_loss: 0.0804\n",
            "Epoch 5/100\n",
            "235/235 [==============================] - 5s 21ms/step - loss: 0.0806 - val_loss: 0.0805\n",
            "Epoch 6/100\n",
            "235/235 [==============================] - 4s 17ms/step - loss: 0.0806 - val_loss: 0.0807\n",
            "Epoch 7/100\n",
            "235/235 [==============================] - 4s 17ms/step - loss: 0.0806 - val_loss: 0.0804\n",
            "Epoch 8/100\n",
            "235/235 [==============================] - 4s 17ms/step - loss: 0.0805 - val_loss: 0.0803\n",
            "Epoch 9/100\n",
            "235/235 [==============================] - 4s 17ms/step - loss: 0.0805 - val_loss: 0.0802\n",
            "Epoch 10/100\n",
            "235/235 [==============================] - 4s 17ms/step - loss: 0.0805 - val_loss: 0.0804\n",
            "Epoch 11/100\n",
            "235/235 [==============================] - 4s 17ms/step - loss: 0.0805 - val_loss: 0.0805\n",
            "Epoch 12/100\n",
            "235/235 [==============================] - 4s 17ms/step - loss: 0.0805 - val_loss: 0.0804\n",
            "Epoch 13/100\n",
            "235/235 [==============================] - 4s 17ms/step - loss: 0.0804 - val_loss: 0.0801\n",
            "Epoch 14/100\n",
            "235/235 [==============================] - 4s 17ms/step - loss: 0.0804 - val_loss: 0.0802\n",
            "Epoch 15/100\n",
            "235/235 [==============================] - 4s 17ms/step - loss: 0.0804 - val_loss: 0.0804\n",
            "Epoch 16/100\n",
            "235/235 [==============================] - 4s 17ms/step - loss: 0.0804 - val_loss: 0.0802\n",
            "Epoch 17/100\n",
            "235/235 [==============================] - 4s 18ms/step - loss: 0.0804 - val_loss: 0.0802\n",
            "Epoch 18/100\n",
            "235/235 [==============================] - 4s 17ms/step - loss: 0.0804 - val_loss: 0.0803\n",
            "Epoch 19/100\n",
            "235/235 [==============================] - 4s 17ms/step - loss: 0.0803 - val_loss: 0.0804\n",
            "Epoch 20/100\n",
            "235/235 [==============================] - 4s 18ms/step - loss: 0.0803 - val_loss: 0.0801\n",
            "Epoch 21/100\n",
            "235/235 [==============================] - 4s 18ms/step - loss: 0.0803 - val_loss: 0.0803\n",
            "Epoch 22/100\n",
            "235/235 [==============================] - 4s 18ms/step - loss: 0.0803 - val_loss: 0.0804\n",
            "Epoch 23/100\n",
            "235/235 [==============================] - 4s 18ms/step - loss: 0.0803 - val_loss: 0.0800\n",
            "Epoch 24/100\n",
            "235/235 [==============================] - 4s 18ms/step - loss: 0.0802 - val_loss: 0.0803\n",
            "Epoch 25/100\n",
            "235/235 [==============================] - 4s 18ms/step - loss: 0.0802 - val_loss: 0.0801\n",
            "Epoch 26/100\n",
            "235/235 [==============================] - 4s 19ms/step - loss: 0.0802 - val_loss: 0.0799\n",
            "Epoch 27/100\n",
            "235/235 [==============================] - 4s 19ms/step - loss: 0.0802 - val_loss: 0.0800\n",
            "Epoch 28/100\n",
            "235/235 [==============================] - 4s 18ms/step - loss: 0.0801 - val_loss: 0.0802\n",
            "Epoch 29/100\n",
            "235/235 [==============================] - 4s 18ms/step - loss: 0.0802 - val_loss: 0.0802\n",
            "Epoch 30/100\n",
            "235/235 [==============================] - 4s 18ms/step - loss: 0.0801 - val_loss: 0.0799\n",
            "Epoch 31/100\n",
            "235/235 [==============================] - 4s 18ms/step - loss: 0.0801 - val_loss: 0.0800\n",
            "Epoch 32/100\n",
            "235/235 [==============================] - 4s 17ms/step - loss: 0.0801 - val_loss: 0.0799\n",
            "Epoch 33/100\n",
            "235/235 [==============================] - 4s 18ms/step - loss: 0.0801 - val_loss: 0.0800\n",
            "Epoch 34/100\n",
            "235/235 [==============================] - 4s 17ms/step - loss: 0.0801 - val_loss: 0.0801\n",
            "Epoch 35/100\n",
            "235/235 [==============================] - 4s 18ms/step - loss: 0.0800 - val_loss: 0.0803\n",
            "Epoch 36/100\n",
            "235/235 [==============================] - 4s 17ms/step - loss: 0.0801 - val_loss: 0.0799\n",
            "Epoch 37/100\n",
            "235/235 [==============================] - 4s 17ms/step - loss: 0.0800 - val_loss: 0.0797\n",
            "Epoch 38/100\n",
            "235/235 [==============================] - 4s 17ms/step - loss: 0.0800 - val_loss: 0.0800\n",
            "Epoch 39/100\n",
            "235/235 [==============================] - 4s 17ms/step - loss: 0.0800 - val_loss: 0.0799\n",
            "Epoch 40/100\n",
            "235/235 [==============================] - 4s 17ms/step - loss: 0.0800 - val_loss: 0.0800\n",
            "Epoch 41/100\n",
            "235/235 [==============================] - 4s 17ms/step - loss: 0.0799 - val_loss: 0.0799\n",
            "Epoch 42/100\n",
            "235/235 [==============================] - 4s 17ms/step - loss: 0.0800 - val_loss: 0.0801\n",
            "Epoch 43/100\n",
            "235/235 [==============================] - 4s 17ms/step - loss: 0.0800 - val_loss: 0.0799\n",
            "Epoch 44/100\n",
            "235/235 [==============================] - 4s 17ms/step - loss: 0.0799 - val_loss: 0.0797\n",
            "Epoch 45/100\n",
            "235/235 [==============================] - 4s 17ms/step - loss: 0.0799 - val_loss: 0.0798\n",
            "Epoch 46/100\n",
            "235/235 [==============================] - 4s 17ms/step - loss: 0.0799 - val_loss: 0.0800\n",
            "Epoch 47/100\n",
            "235/235 [==============================] - 4s 17ms/step - loss: 0.0799 - val_loss: 0.0800\n",
            "Epoch 48/100\n",
            "235/235 [==============================] - 4s 17ms/step - loss: 0.0799 - val_loss: 0.0796\n",
            "Epoch 49/100\n",
            "235/235 [==============================] - 4s 17ms/step - loss: 0.0798 - val_loss: 0.0795\n",
            "Epoch 50/100\n",
            "235/235 [==============================] - 4s 18ms/step - loss: 0.0798 - val_loss: 0.0797\n",
            "Epoch 51/100\n",
            "235/235 [==============================] - 4s 17ms/step - loss: 0.0799 - val_loss: 0.0799\n",
            "Epoch 52/100\n",
            "235/235 [==============================] - 4s 17ms/step - loss: 0.0798 - val_loss: 0.0800\n",
            "Epoch 53/100\n",
            "235/235 [==============================] - 4s 17ms/step - loss: 0.0798 - val_loss: 0.0796\n",
            "Epoch 54/100\n",
            "235/235 [==============================] - 4s 18ms/step - loss: 0.0798 - val_loss: 0.0798\n",
            "Epoch 55/100\n",
            "235/235 [==============================] - 4s 18ms/step - loss: 0.0798 - val_loss: 0.0796\n",
            "Epoch 56/100\n",
            "235/235 [==============================] - 4s 17ms/step - loss: 0.0798 - val_loss: 0.0797\n",
            "Epoch 57/100\n",
            "235/235 [==============================] - 4s 18ms/step - loss: 0.0797 - val_loss: 0.0798\n",
            "Epoch 58/100\n",
            "235/235 [==============================] - 4s 18ms/step - loss: 0.0798 - val_loss: 0.0797\n",
            "Epoch 59/100\n",
            "235/235 [==============================] - 4s 17ms/step - loss: 0.0797 - val_loss: 0.0796\n",
            "Epoch 60/100\n",
            "235/235 [==============================] - 4s 17ms/step - loss: 0.0797 - val_loss: 0.0796\n",
            "Epoch 61/100\n",
            "235/235 [==============================] - 4s 18ms/step - loss: 0.0797 - val_loss: 0.0797\n",
            "Epoch 62/100\n",
            "235/235 [==============================] - 4s 18ms/step - loss: 0.0797 - val_loss: 0.0795\n",
            "Epoch 63/100\n",
            "235/235 [==============================] - 4s 17ms/step - loss: 0.0797 - val_loss: 0.0798\n",
            "Epoch 64/100\n",
            "235/235 [==============================] - 4s 17ms/step - loss: 0.0797 - val_loss: 0.0798\n",
            "Epoch 65/100\n",
            "235/235 [==============================] - 4s 17ms/step - loss: 0.0797 - val_loss: 0.0796\n",
            "Epoch 66/100\n",
            "235/235 [==============================] - 4s 17ms/step - loss: 0.0797 - val_loss: 0.0796\n",
            "Epoch 67/100\n",
            "235/235 [==============================] - 4s 17ms/step - loss: 0.0797 - val_loss: 0.0797\n",
            "Epoch 68/100\n",
            "235/235 [==============================] - 4s 17ms/step - loss: 0.0797 - val_loss: 0.0798\n",
            "Epoch 69/100\n",
            "235/235 [==============================] - 4s 18ms/step - loss: 0.0797 - val_loss: 0.0796\n",
            "Epoch 70/100\n",
            "235/235 [==============================] - 4s 18ms/step - loss: 0.0796 - val_loss: 0.0797\n",
            "Epoch 71/100\n",
            "235/235 [==============================] - 4s 18ms/step - loss: 0.0797 - val_loss: 0.0797\n",
            "Epoch 72/100\n",
            "235/235 [==============================] - 4s 17ms/step - loss: 0.0796 - val_loss: 0.0796\n",
            "Epoch 73/100\n",
            "235/235 [==============================] - 4s 17ms/step - loss: 0.0796 - val_loss: 0.0795\n",
            "Epoch 74/100\n",
            "235/235 [==============================] - 4s 17ms/step - loss: 0.0796 - val_loss: 0.0795\n",
            "Epoch 75/100\n",
            "235/235 [==============================] - 4s 17ms/step - loss: 0.0796 - val_loss: 0.0798\n",
            "Epoch 76/100\n",
            "235/235 [==============================] - 4s 17ms/step - loss: 0.0796 - val_loss: 0.0796\n",
            "Epoch 77/100\n",
            "235/235 [==============================] - 4s 17ms/step - loss: 0.0796 - val_loss: 0.0797\n",
            "Epoch 78/100\n",
            "235/235 [==============================] - 4s 17ms/step - loss: 0.0796 - val_loss: 0.0795\n",
            "Epoch 79/100\n",
            "235/235 [==============================] - 4s 17ms/step - loss: 0.0796 - val_loss: 0.0797\n",
            "Epoch 80/100\n",
            "235/235 [==============================] - 4s 17ms/step - loss: 0.0796 - val_loss: 0.0795\n",
            "Epoch 81/100\n",
            "235/235 [==============================] - 4s 17ms/step - loss: 0.0796 - val_loss: 0.0795\n",
            "Epoch 82/100\n",
            "235/235 [==============================] - 4s 17ms/step - loss: 0.0796 - val_loss: 0.0795\n",
            "Epoch 83/100\n",
            "235/235 [==============================] - 4s 17ms/step - loss: 0.0795 - val_loss: 0.0795\n",
            "Epoch 84/100\n",
            "235/235 [==============================] - 4s 17ms/step - loss: 0.0795 - val_loss: 0.0794\n",
            "Epoch 85/100\n",
            "235/235 [==============================] - 4s 17ms/step - loss: 0.0795 - val_loss: 0.0794\n",
            "Epoch 86/100\n",
            "235/235 [==============================] - 4s 17ms/step - loss: 0.0795 - val_loss: 0.0794\n",
            "Epoch 87/100\n",
            "235/235 [==============================] - 4s 17ms/step - loss: 0.0795 - val_loss: 0.0794\n",
            "Epoch 88/100\n",
            "235/235 [==============================] - 4s 17ms/step - loss: 0.0795 - val_loss: 0.0796\n",
            "Epoch 89/100\n",
            "235/235 [==============================] - 4s 17ms/step - loss: 0.0795 - val_loss: 0.0795\n",
            "Epoch 90/100\n",
            "235/235 [==============================] - 4s 17ms/step - loss: 0.0795 - val_loss: 0.0795\n",
            "Epoch 91/100\n",
            "235/235 [==============================] - 4s 17ms/step - loss: 0.0795 - val_loss: 0.0796\n",
            "Epoch 92/100\n",
            "235/235 [==============================] - 4s 17ms/step - loss: 0.0795 - val_loss: 0.0794\n",
            "Epoch 93/100\n",
            "235/235 [==============================] - 4s 17ms/step - loss: 0.0794 - val_loss: 0.0795\n",
            "Epoch 94/100\n",
            "235/235 [==============================] - 4s 17ms/step - loss: 0.0795 - val_loss: 0.0794\n",
            "Epoch 95/100\n",
            "235/235 [==============================] - 4s 18ms/step - loss: 0.0795 - val_loss: 0.0795\n",
            "Epoch 96/100\n",
            "235/235 [==============================] - 4s 17ms/step - loss: 0.0794 - val_loss: 0.0794\n",
            "Epoch 97/100\n",
            "235/235 [==============================] - 4s 17ms/step - loss: 0.0794 - val_loss: 0.0794\n",
            "Epoch 98/100\n",
            "235/235 [==============================] - 4s 17ms/step - loss: 0.0794 - val_loss: 0.0795\n",
            "Epoch 99/100\n",
            "235/235 [==============================] - 4s 17ms/step - loss: 0.0795 - val_loss: 0.0795\n",
            "Epoch 100/100\n",
            "235/235 [==============================] - 4s 17ms/step - loss: 0.0794 - val_loss: 0.0792\n"
          ]
        },
        {
          "output_type": "execute_result",
          "data": {
            "text/plain": [
              "<keras.callbacks.History at 0x7f7553248210>"
            ]
          },
          "metadata": {},
          "execution_count": 23
        }
      ]
    },
    {
      "cell_type": "code",
      "source": [
        "# Encode and decode some digits\n",
        "# Note that we take them from the *test* set\n",
        "encoded_imgs = encoder.predict(x_test)\n",
        "decoded_imgs = decoder.predict(encoded_imgs)"
      ],
      "metadata": {
        "id": "gZeNm6gtiDO3"
      },
      "execution_count": 26,
      "outputs": []
    },
    {
      "cell_type": "code",
      "source": [
        "# Use Matplotlib \n",
        "import matplotlib.pyplot as plt\n",
        "\n",
        "n = 10  # How many digits we will display\n",
        "plt.figure(figsize=(20, 4))\n",
        "for i in range(n):\n",
        "    # Display original\n",
        "    ax = plt.subplot(2, n, i + 1)\n",
        "    plt.imshow(x_test[i].reshape(28, 28))\n",
        "    plt.gray()\n",
        "    ax.get_xaxis().set_visible(False)\n",
        "    ax.get_yaxis().set_visible(False)\n",
        "\n",
        "    # Display reconstruction\n",
        "    ax = plt.subplot(2, n, i + 1 + n)\n",
        "    plt.imshow(decoded_imgs[i].reshape(28, 28))\n",
        "    plt.gray()\n",
        "    ax.get_xaxis().set_visible(False)\n",
        "    ax.get_yaxis().set_visible(False)\n",
        "plt.show()"
      ],
      "metadata": {
        "colab": {
          "base_uri": "https://localhost:8080/",
          "height": 248
        },
        "id": "FS_P91LMiKa-",
        "outputId": "a17f5b2d-5bc5-434c-8f79-66870a6358fe"
      },
      "execution_count": 25,
      "outputs": [
        {
          "output_type": "display_data",
          "data": {
            "text/plain": [
              "<Figure size 1440x288 with 20 Axes>"
            ],
            "image/png": "[encoded data removed]"
          },
          "metadata": {
            "needs_background": "light"
          }
        }
      ]
    }
  ]
}